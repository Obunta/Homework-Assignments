{
 "cells": [
  {
   "cell_type": "code",
   "execution_count": 8,
   "metadata": {
    "collapsed": false
   },
   "outputs": [
    {
     "name": "stdout",
     "output_type": "stream",
     "text": [
      "length: 54\n",
      "A count: 16\n",
      "T count: 21\n",
      "AT content is 0.6851851851851852\n"
     ]
    }
   ],
   "source": [
    "# Part 1 exercises from chapter 2\n",
    "\n",
    "# calculating AT content\n",
    "\n",
    "dna = \"ACTGATCGATTACGTATAGTATTTGCTATCATACATATATATCGATGCGTTCAT\"\n",
    "\n",
    "length = len(dna)\n",
    "a_count = dna.count('A')\n",
    "t_count = dna.count('T')\n",
    "\n",
    "print(\"length: \" + str(length))\n",
    "print(\"A count: \" + str(a_count))\n",
    "print(\"T count: \" + str(t_count))\n",
    "\n",
    "at_content = (a_count + t_count) / length # AT/length = ATcontent\n",
    "print(\"AT content is \" + str(at_content))"
   ]
  },
  {
   "cell_type": "code",
   "execution_count": 17,
   "metadata": {
    "collapsed": false
   },
   "outputs": [
    {
     "name": "stdout",
     "output_type": "stream",
     "text": [
      "tCTGtTCGtTTtCGTtTtGTtTTTGCTtTCtTtCtTtTtTtTCGtTGCGTTCtT\n",
      "tCaGtaCGtaatCGatatGataaaGCataCtatCtatatataCGtaGCGaaCta\n",
      "tgaGtagGtaatgGatatGataaaGgatagtatgtatatatagGtaGgGaagta\n",
      "tgactagctaatgcatatcataaacgatagtatgtatatatagctacgcaagta\n",
      "TGACTAGCTAATGCATATCATAAACGATAGTATGTATATATAGCTACGCAAGTA\n"
     ]
    }
   ],
   "source": [
    "# complementing DNA\n",
    "\n",
    "# print complment of this sequence\n",
    "# replace eace base with its pair \n",
    "# A with T\n",
    "# T with A\n",
    "# C with G\n",
    "# G with C\n",
    "\n",
    "# use replace\n",
    "dna = \"ACTGATCGATTACGTATAGTATTTGCTATCATACATATATATCGATGCGTTCAT\"\n",
    "\n",
    "# Checking logic\n",
    "#replacement1 = dna.replace('A', 'T')\n",
    "#print(replacement1)\n",
    "\n",
    "#replacement2 = dna.replace('T', 'A')\n",
    "#print(replacement2)\n",
    "\n",
    "#replacement3 = dna.replace('C', 'G')\n",
    "#print(replacement3)\n",
    "\n",
    "#replacement4 = dna.replace('G', 'C')\n",
    "#print(replacement4)\n",
    "\n",
    "replacement1 = dna.replace('A', 't')\n",
    "print(replacement1)\n",
    "\n",
    "replacement2 = replacement1.replace('T', 'a')\n",
    "print(replacement2)\n",
    "\n",
    "replacement3 = replacement2.replace('C', 'g')\n",
    "print(replacement3)\n",
    "\n",
    "replacement4 = replacement3.replace('G', 'c')\n",
    "print(replacement4)\n",
    "\n",
    "print(replacement4.upper())\n"
   ]
  },
  {
   "cell_type": "code",
   "execution_count": 18,
   "metadata": {
    "collapsed": false
   },
   "outputs": [
    {
     "name": "stdout",
     "output_type": "stream",
     "text": [
      "length of fragment 1 is 22\n",
      "length of fragment 2 is 33\n"
     ]
    }
   ],
   "source": [
    "# Restriction fragment lengths\n",
    "\n",
    "# EcoRI restriction enzyme cuts at motif G*AATTC\n",
    "\n",
    "dna_seq = \"ACTGATCGATTACGTATAGTAGAATTCTATCATACATATATATCGATGCGTTCAT\"\n",
    "\n",
    "frag1_length = dna_seq.find(\"GAATTC\") + 1\n",
    "frag2_length = len(dna_seq) - frag1_length\n",
    "\n",
    "print(\"length of fragment 1 is \" + str(frag1_length))\n",
    "print(\"length of fragment 2 is \" + str(frag2_length))\n",
    "\n"
   ]
  },
  {
   "cell_type": "code",
   "execution_count": 22,
   "metadata": {
    "collapsed": false
   },
   "outputs": [
    {
     "name": "stdout",
     "output_type": "stream",
     "text": [
      "ATCGATCGATCGATCGACTGACTAGTCATAGCTATGCATGTAGCTACTCGATCGATCGATCGATTCATCGATCGATATCGATGCATCGACTACTAT\n"
     ]
    }
   ],
   "source": [
    "# Splicing out introns, part one\n",
    "\n",
    "# spliceosome --> splint DNA seq at two locations to make 3 pieces\n",
    "# join the outer pieces together\n",
    "\n",
    "# first exon starts at base number 1 to 63\n",
    "# second exon starts at 91 to the end\n",
    "\n",
    "my_dna = \"ATCGATCGATCGATCGACTGACTAGTCATAGCTATGCATGTAGCTACTCGATCGATCGATCGATCGATCGATCGATCGATCGATCATGCTATCATCGATCGATATCGATGCATCGACTACTAT\"\n",
    "\n",
    "exon1 = my_dna[0:64]\n",
    "exon2 = my_dna[91:]\n",
    "\n",
    "print(exon1 + exon2)\n"
   ]
  },
  {
   "cell_type": "code",
   "execution_count": 23,
   "metadata": {
    "collapsed": false
   },
   "outputs": [
    {
     "name": "stdout",
     "output_type": "stream",
     "text": [
      "78.04878048780488\n"
     ]
    }
   ],
   "source": [
    "# Splicing out introns, part two\n",
    "# write a program that will calc % of DNA seq is coding\n",
    "\n",
    "my_dna = \"ATCGATCGATCGATCGACTGACTAGTCATAGCTATGCATGTAGCTACTCGATCGATCGATCGATCGATCGATCGATCGATCGATCATGCTATCATCGATCGATATCGATGCATCGACTACTAT\"\n",
    "\n",
    "exon1 = my_dna[0:64]\n",
    "exon2 = my_dna[91:]\n",
    "\n",
    "coding_length = len(exon1 + exon2)\n",
    "total_length = len(my_dna)\n",
    "print(100*coding_length / total_length)\n"
   ]
  },
  {
   "cell_type": "code",
   "execution_count": 26,
   "metadata": {
    "collapsed": false
   },
   "outputs": [
    {
     "name": "stdout",
     "output_type": "stream",
     "text": [
      "ATCGATCGATCGATCGACTGACTAGTCATAGCTATGCATGTAGCTACTCGATCGATCGATCGATcgatcgatcgatcgatcgatcatgctaTCATCGATCGATATCGATGCATCGACTACTAT\n"
     ]
    }
   ],
   "source": [
    "# Splicing out introns, part three\n",
    "# print out original DNA seq with coding bases in uppercase\n",
    "# non-coding bases in lowercase\n",
    "\n",
    "my_dna = \"ATCGATCGATCGATCGACTGACTAGTCATAGCTATGCATGTAGCTACTCGATCGATCGATCGATCGATCGATCGATCGATCGATCATGCTATCATCGATCGATATCGATGCATCGACTACTAT\"\n",
    "exon1 = my_dna[0:64]\n",
    "intron = my_dna[64:91].lower()\n",
    "exon2 = my_dna[91:]\n",
    "\n",
    "print(exon1 + intron + exon2)\n",
    "\n",
    "# alternatively can write: print(exon1 + intron.lower() + exon2)\n",
    "# if didn't add method after intial intron variable"
   ]
  },
  {
   "cell_type": "code",
   "execution_count": 2,
   "metadata": {
    "collapsed": false
   },
   "outputs": [
    {
     "data": {
      "text/plain": [
       "27"
      ]
     },
     "execution_count": 2,
     "metadata": {},
     "output_type": "execute_result"
    }
   ],
   "source": [
    "# Part 2 exercises from chapter 3\n",
    "\n",
    "# Splitting genomic DNA\n",
    "# look in ch 3 folder for genomic_dna.txt\n",
    "# write a program that will split DNA into coding and non-coding parts\n",
    "# write seqquences to two separate files\n",
    "\n",
    "# genomic_dna = \"ATCGATCGATCGATCGACTGACTAGTCATAGCTATGCATGTAGCTACTCGATCGATCGATCGATCGATCGATCGATCGATCGATCATGCTATCATCGATCGATATCGATGCATCGACTACTAT\"\n",
    "\n",
    "dna_file = open(\"genomic_dna.txt\")\n",
    "my_dna = dna_file.read() # open file and read contents\n",
    "\n",
    "# extract different DNA bits\n",
    "exon1 = my_dna[0:63]\n",
    "intron = my_dna[63:90]\n",
    "exon2 = my_dna[90:]\n",
    "\n",
    "coding_file = open('coding_dna.txt', \"w\")\n",
    "noncoding_file = open(\"noncoding_dna.txt\", \"w\")\n",
    "\n",
    "coding_file.write(exon1 + exon2)\n",
    "noncoding_file.write(intron)"
   ]
  },
  {
   "cell_type": "code",
   "execution_count": 4,
   "metadata": {
    "collapsed": false
   },
   "outputs": [
    {
     "data": {
      "text/plain": [
       "32"
      ]
     },
     "execution_count": 4,
     "metadata": {},
     "output_type": "execute_result"
    }
   ],
   "source": [
    "# Writing a FASTA file\n",
    "\n",
    "header_1 = \"ABC123\"\n",
    "header_2 = \"DEF456\"\n",
    "header_3 = \"HIJ789\"\n",
    "seq_1 = 'ATGTACGATCGATCGATCGCTAGACGTATCG'\n",
    "seq_2 = \"actgatcgacgatcgatcgatcacgact\"\n",
    "seq_3 = \"ACTGAC-ACTGT--ACTGTA----CATGTG\"\n",
    "\n",
    "# print('>' + header_1 + '\\n' + seq_1)\n",
    "# print('>' + header_2 + '\\n' + seq_2.upper()) # method for uppecase\n",
    "# print('>' + header_3 + '\\n' + seq_3.replace('-', \"\")) # method for replacement\n",
    "\n",
    "output = open(\"sequences.fasta\", 'w')\n",
    "output.write('>' + header_1 + '\\n' + seq_1 + '\\n')\n",
    "output.write('>' + header_2 + '\\n' + seq_2.upper()+ '\\n') \n",
    "output.write('>' + header_3 + '\\n' + seq_3.replace('-', \"\") + '\\n')"
   ]
  },
  {
   "cell_type": "code",
   "execution_count": 7,
   "metadata": {
    "collapsed": false
   },
   "outputs": [
    {
     "name": "stdout",
     "output_type": "stream",
     "text": [
      "ATTCGATTATAAGCTCGATCGATCGATCGATCGATCGATCGATCGATCGATCGATC\n",
      "\n",
      "ATTCGATTATAAGCACTGATCGATCGATCGATCGATCGATGCTATCGTCGT\n",
      "\n",
      "ATTCGATTATAAGCATCGATCACGATCTATCGTACGTATGCATATCGATATCGATCGTAGTC\n",
      "\n",
      "ATTCGATTATAAGCACTATCGATGATCTAGCTACGATCGTAGCTGTA\n",
      "\n",
      "ATTCGATTATAAGCACTAGCTAGTCTCGATGCATGATCAGCTTAGCTGATGATGCTATGCA\n",
      "\n"
     ]
    }
   ],
   "source": [
    "# Part 3 exercises from chapter 4\n",
    "\n",
    "# Processing DNA in a file\n",
    "\n",
    "file = open('input.txt')\n",
    "for dna in file:\n",
    "    print(dna)\n",
    "#file = \"ATTCGATTATAAGCTCGATCGATCGATCGATCGATCGATCGATCGATCGATCGATCATTCGATTATAAGCACTGATCGATCGATCGATCGATCGATGCTATCGTCGTATTCGATTATAAGCATCGATCACGATCTATCGTACGTATGCATATCGATATCGATCGTAGTCATTCGATTATAAGCACTATCGATGATCTAGCTACGATCGTAGCTGTAATTCGATTATAAGCACTAGCTAGTCTCGATGCATGATCAGCTTAGCTGATGATGCTATGCA\"\n",
    "\n",
    "# open the output file\n",
    "output = open(\"trimmed.txt\", \"w\")\n",
    "\n",
    "# go through the input file one line at a time\n",
    "for dna in file:\n",
    "\n",
    "    # get the substring from the 15th character to the end\n",
    "    trimmed_dna = dna[14:]\n",
    "\n",
    "    # get the length of the trimmed sequence\n",
    "    trimmed_length = len(trimmed_dna) - 1\n",
    "\n",
    "    # print out the trimmed sequence\n",
    "    output.write(trimmed_dna)\n",
    "\n",
    "    # print out the length to the screen\n",
    "    print(\"processed sequence with length \" + str(trimmed_length))"
   ]
  },
  {
   "cell_type": "code",
   "execution_count": 9,
   "metadata": {
    "collapsed": true
   },
   "outputs": [],
   "source": [
    "# Multiple exons from genomic DNA\n",
    "\n",
    "# open the genomic dna file and read the contents\n",
    "genomic_dna = open(\"genomic_dna.txt\").read()\n",
    "\n",
    "# open the exons locations file\n",
    "exon_locations = open(\"exons.txt\")\n",
    "\n",
    "# create a variable to hold the coding sequence\n",
    "coding_sequence = \"\"\n",
    "\n",
    "# go through each line in the exon locations file\n",
    "for line in exon_locations:\n",
    "\n",
    "    # split the line using a comma\n",
    "    positions = line.split(',')\n",
    "\n",
    "    # get the start and stop positions\n",
    "    start = int(positions[0])\n",
    "    stop = int(positions[1])\n",
    "\n",
    "    # extract the exon from the genomic dna\n",
    "    exon = genomic_dna[start:stop]\n",
    "\n",
    "    # append the exon to the end of the current coding sequence\n",
    "    coding_sequence = coding_sequence + exon\n",
    "\n",
    "# write the coding sequence to an output file\n",
    "output = open(\"coding_sequence.txt\", \"w\")\n",
    "output.write(coding_sequence)\n",
    "output.close()"
   ]
  },
  {
   "cell_type": "code",
   "execution_count": null,
   "metadata": {
    "collapsed": true
   },
   "outputs": [],
   "source": []
  }
 ],
 "metadata": {
  "anaconda-cloud": {},
  "kernelspec": {
   "display_name": "Python [default]",
   "language": "python",
   "name": "python3"
  },
  "language_info": {
   "codemirror_mode": {
    "name": "ipython",
    "version": 3
   },
   "file_extension": ".py",
   "mimetype": "text/x-python",
   "name": "python",
   "nbconvert_exporter": "python",
   "pygments_lexer": "ipython3",
   "version": "3.5.2"
  }
 },
 "nbformat": 4,
 "nbformat_minor": 2
}
